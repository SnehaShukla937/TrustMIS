{
  "cells": [
    {
      "cell_type": "code",
      "source": [
        "# MOUNT DRIVE\n",
        "from google.colab import drive\n",
        "drive.mount('/content/drive')"
      ],
      "metadata": {
        "id": "XdNNOSmlo9Rz",
        "colab": {
          "base_uri": "https://localhost:8080/"
        },
        "outputId": "90c46c12-829e-4936-bf15-0c7e8a9f4a38"
      },
      "execution_count": 1,
      "outputs": [
        {
          "output_type": "stream",
          "name": "stdout",
          "text": [
            "Mounted at /content/drive\n"
          ]
        }
      ]
    },
    {
      "cell_type": "code",
      "source": [
        "# IMPORT LIBRARIES\n",
        "import cv2\n",
        "import numpy as np\n",
        "from google.colab.patches import cv2_imshow\n",
        "import torch\n",
        "from tqdm.auto import tqdm\n",
        "import argparse\n",
        "import glob\n",
        "from PIL import Image\n",
        "import shutil\n",
        "import os\n",
        "import pandas as pd\n",
        "from scipy import ndimage\n",
        "import pandas as pd\n",
        "from scipy.stats import pearsonr"
      ],
      "metadata": {
        "id": "L9JggmAVpBN_"
      },
      "execution_count": 2,
      "outputs": []
    },
    {
      "cell_type": "code",
      "source": [
        "# SET VARIABLES\n",
        "model_dir = '/content/drive/MyDrive/PraNet/' # change this current model directory\n",
        "dataset_dir = '/content/drive/MyDrive/PraNet/'  # change this data directory\n",
        "mtype = 'S' # ('S' for Pranet, CaraNet, SSFormer-S , UACANet-S )('L' for SSFormer-L, UACANet-L)\n",
        "rotation_angles = [90,180,270] # considered angles\n",
        "threshold = 0.90 # THRESHOLD OF TRUSTWORTHINESS\n",
        "datasets = ['CVC-300'] #,'CVC-ClinicDB','CVC-ColonDB','ETIS-LaribPolypDB','Kvasir'] # name of test data for polyps"
      ],
      "metadata": {
        "id": "8v5sSxvwpEOP"
      },
      "execution_count": 3,
      "outputs": []
    },
    {
      "cell_type": "code",
      "source": [
        "# MAKE FOLDERS\n",
        "if mtype == \"L\":\n",
        "    os.makedirs('Output_L/', exist_ok=True)  # main folder for saving output\n",
        "    os.makedirs('Output_L/CSV_files/', exist_ok=True) # folder for csv files inside main folder\n",
        "    for i in rotation_angles:\n",
        "      for j in datasets:\n",
        "        os.makedirs('Output_L/'+str(j)+'/', exist_ok=True)  # Each test dataset folder inside main folder\n",
        "        os.makedirs('Output_L/rotation'+str(i)+'/', exist_ok=True) # folders for 3 rotations  inside main folder\n",
        "        os.makedirs('Output_L/rotation'+str(i)+'/rotated_pred/', exist_ok=True) # folder to save rotated pred inside each rotaion folder\n",
        "        os.makedirs('Output_L/rotation'+str(i)+'/rotated_pred/'+ str(j), exist_ok=True)  # Each test dataset folder inside rotated_pred folder\n",
        "        os.makedirs('Output_L/rotation'+str(i)+'/invert_rotated_pred/', exist_ok=True) # folder to save invert rotated pred inside each rotaion folder\n",
        "        os.makedirs('Output_L/rotation'+str(i)+'/invert_rotated_pred/'+ str(j), exist_ok=True)  # Each test dataset folder inside invert rotated pred folder\n",
        "else:\n",
        "  os.makedirs('Output/', exist_ok=True)\n",
        "  os.makedirs('Output/CSV_files/', exist_ok=True)\n",
        "  for i in rotation_angles:\n",
        "    for j in ['CVC-300','CVC-ClinicDB','CVC-ColonDB','ETIS-LaribPolypDB','Kvasir']:\n",
        "      os.makedirs('Output/'+str(j)+'/', exist_ok=True)\n",
        "      os.makedirs('Output/rotation'+str(i)+'/', exist_ok=True)\n",
        "      os.makedirs('Output/rotation'+str(i)+'/rotated_pred/', exist_ok=True)\n",
        "      os.makedirs('Output/rotation'+str(i)+'/rotated_pred/'+ str(j), exist_ok=True)\n",
        "      os.makedirs('Output/rotation'+str(i)+'/invert_rotated_pred/', exist_ok=True)\n",
        "      os.makedirs('Output/rotation'+str(i)+'/invert_rotated_pred/'+ str(j), exist_ok=True)\n"
      ],
      "metadata": {
        "id": "MDfyVx38pEKF"
      },
      "execution_count": 5,
      "outputs": []
    },
    {
      "cell_type": "code",
      "source": [
        "# ALL REQUIRED FUNCTIONS\n",
        "def rotation90(i):\n",
        "  r_i = cv2.rotate(i,cv2.ROTATE_90_COUNTERCLOCKWISE)\n",
        "  return r_i\n",
        "\n",
        "def rotation180(i):\n",
        "  r_i = cv2.flip(i, -1)\n",
        "  return r_i\n",
        "\n",
        "def rotation270(i):\n",
        "  r_i = cv2.rotate(i,cv2.ROTATE_90_CLOCKWISE)\n",
        "  return r_i\n",
        "\n",
        "def invert_rotation90(i):\n",
        "  r_i = cv2.rotate(i,cv2.ROTATE_90_CLOCKWISE)\n",
        "  return r_i\n",
        "\n",
        "def invert_rotation180(i):\n",
        "  r_i = cv2.flip(i, -1)\n",
        "  return r_i\n",
        "\n",
        "def invert_rotation270(i):\n",
        "  r_i = cv2.rotate(i,cv2.ROTATE_90_COUNTERCLOCKWISE)\n",
        "  return r_i\n",
        "\n",
        "def rotation_dataset(img_path,mask_path,save_rotated_img_path,save_rotated_mask_path,rotation_angle):\n",
        "  sorted_os_list = os.listdir(img_path)\n",
        "  sorted_os_list.sort()\n",
        "  for i in tqdm(sorted_os_list):\n",
        "    img = cv2.imread(img_path + i)\n",
        "    mask = cv2.imread(mask_path + i)\n",
        "    if rotation_angle == 90:\n",
        "      r_img = rotation90(img)\n",
        "      r_mask = rotation90(mask)\n",
        "    elif rotation_angle == 180:\n",
        "      r_img = rotation180(img)\n",
        "      r_mask = rotation180(mask)\n",
        "    elif rotation_angle == 270:\n",
        "      r_img = rotation270(img)\n",
        "      r_mask = rotation270(mask)\n",
        "    else:\n",
        "      raise Exception(\"wrong rotation angle!!\")\n",
        "    cv2.imwrite(save_rotated_img_path + i, r_img)\n",
        "    cv2.imwrite(save_rotated_mask_path + i, r_mask)\n",
        "\n",
        "def invert_rotation_prediction(saved_pred_path, saved_invert_pred_path, rotation_angle):\n",
        "  for i in tqdm(os.listdir(saved_pred_path)):\n",
        "    pred = cv2.imread(saved_pred_path + i)\n",
        "    if rotation_angle == 90:\n",
        "     r_pred = invert_rotation90(pred)\n",
        "    elif rotation_angle == 180:\n",
        "     r_pred = invert_rotation180(pred)\n",
        "    elif rotation_angle == 270:\n",
        "     r_pred = invert_rotation270(pred)\n",
        "    cv2.imwrite(saved_invert_pred_path + i,r_pred)\n",
        "\n",
        "def dice_metric(pred, target):\n",
        "  intersection = 2.0 * (target * pred).sum()\n",
        "  union = target.sum() + pred.sum()\n",
        "  if target.sum() == 0 and pred.sum() == 0:\n",
        "      return 1.0\n",
        "  return intersection / union\n",
        "\n",
        "def load(path):\n",
        "    img = Image.open(open(path, 'rb'))\n",
        "    mask = img.convert('L')\n",
        "    mask = np.asarray(mask, np.float32)\n",
        "    mask /= (mask.max() + 1e-8)\n",
        "    return mask\n",
        "\n",
        "def intersection(m):\n",
        "  m[m < 1] = 0\n",
        "  final_mask = m\n",
        "  return final_mask\n",
        "\n",
        "def get_YA_YB(mtype, i, data_name, cso=False):\n",
        "  if mtype == 'L':\n",
        "      path0 =  \"Output_L/\"+ data_name +\"/\"\n",
        "      path90 = \"Output_L/rotation90/invert_rotated_pred/\"+ data_name +\"/\"\n",
        "      path180 =  \"Output_L/rotation180/invert_rotated_pred/\"+ data_name +\"/\"\n",
        "      path270 =  \"Output_L/rotation270/invert_rotated_pred/\"+ data_name +\"/\"\n",
        "  else:\n",
        "    path0 =  \"Output/\"+ data_name +\"/\"\n",
        "    path90 = \"Output/rotation90/invert_rotated_pred/\"+ data_name +\"/\"\n",
        "    path180 =  \"Output/rotation180/invert_rotated_pred/\"+ data_name +\"/\"\n",
        "    path270 =  \"Output/rotation270/invert_rotated_pred/\"+ data_name +\"/\"\n",
        "\n",
        "  path_list = os.listdir(path0)\n",
        "  path_list.sort()\n",
        "  mask0 = load(path0 + i)\n",
        "  mask90 = load(path90 + i)\n",
        "  mask180 = load(path180 + i)\n",
        "  mask270 = load(path270 + i)\n",
        "  dice0_90 = dice_metric(mask0,mask90)\n",
        "  dice0_180 = dice_metric(mask0,mask180)\n",
        "  dice0_270 = dice_metric(mask0,mask270)\n",
        "  dice90_180 = dice_metric(mask90,mask180)\n",
        "  dice90_270 = dice_metric(mask90,mask270)\n",
        "  dice180_270 = dice_metric(mask180,mask270)\n",
        "  avg0 = (dice0_90 + dice0_180 + dice0_270)/3\n",
        "  avg90 = (dice0_90 + dice90_180 + dice90_270)/3\n",
        "  avg180 = (dice90_180 + dice0_180 + dice180_270)/3\n",
        "  avg270 = (dice0_270 + dice180_270 + dice90_270)/3\n",
        "  avg = [avg0,avg90,avg180, avg270]\n",
        "  v1 = max(avg)\n",
        "  avg.remove(v1)\n",
        "  v2 = max(avg)\n",
        "  if (v1 == avg0 and v2 == avg90) or (v1 == avg90 and v2 == avg0):\n",
        "    mask1 = mask0\n",
        "    mask2 = mask90\n",
        "  elif (v1 == avg0 and v2 == avg180) or (v1 == avg180 and v2 == avg0):\n",
        "    mask1 = mask0\n",
        "    mask2 = mask180\n",
        "  elif (v1 == avg0 and v2 == avg270) or (v1 == avg270 and v2 == avg0):\n",
        "    mask1 = mask0\n",
        "    mask2 = mask270\n",
        "  elif (v1 == avg90 and v2 == avg180) or (v1 == avg180 and v2 == avg90):\n",
        "    mask1 =  mask90\n",
        "    mask2 =  mask180\n",
        "  elif (v1 == avg90 and v2 == avg270) or (v1 == avg270 and v2 == avg90):\n",
        "    mask1 =  mask90\n",
        "    mask2 =  mask270\n",
        "  elif (v1 == avg180 and v2 == avg270) or (v1 == avg270 and v2 == avg180):\n",
        "    mask1 =  mask180\n",
        "    mask2 = mask270\n",
        "  return mask1, mask2"
      ],
      "metadata": {
        "id": "e5KMtTu2puge"
      },
      "execution_count": 4,
      "outputs": []
    },
    {
      "cell_type": "code",
      "source": [
        "# # ROTATE INPUT DATA\n",
        "for data_name in datasets:\n",
        "  for rotation_angle in rotation_angles:\n",
        "    img_path = \"TestDataset/\"+ data_name +\"/images/\"   # input image path\n",
        "    save_rotated_img_path = \"TestDataset/RotatedDataset\"+ str(rotation_angle) +\"/\"+ data_name +\"/images/\"  # rotated input image path\n",
        "    mask_path = \"TestDataset/\"+ data_name +\"/masks/\"  # input mask path\n",
        "    save_rotated_mask_path = \"TestDataset/RotatedDataset\"+ str(rotation_angle) +\"/\"+ data_name +\"/masks/\"  # rotated input mask path\n",
        "    rotation_dataset(img_path,mask_path,save_rotated_img_path,save_rotated_mask_path,rotation_angle)"
      ],
      "metadata": {
        "id": "rGDODvRUp68P"
      },
      "execution_count": 5,
      "outputs": []
    },
    {
      "cell_type": "code",
      "source": [
        "####.......Run this cell after getting all the MIS predictions of input and corresponding variants on existing models.....#####\n",
        "# INVERT ROTATION ON DIFFERENT PREDICTIONS\n",
        "os.chdir(model_dir)\n",
        "for data_name in datasets:\n",
        "  for rotation_angle in rotation_angles:\n",
        "    if mtype == 'L':\n",
        "      saved_pred_path = \"Output_L/rotation\" + str(rotation_angle) +\"/rotated_pred/\"+ data_name +\"/\"  # saved rotated prediction path\n",
        "      saved_invert_pred_path = \"Output_L/rotation\" + str(rotation_angle) +\"/invert_rotated_pred/\"+ data_name +\"/\"  # invert rotated prediction path\n",
        "    else:\n",
        "      saved_pred_path = \"Output/rotation\" + str(rotation_angle) +\"/rotated_pred/\"+ data_name +\"/\"  # saved rotated prediction path\n",
        "      saved_invert_pred_path = \"Output/rotation\" + str(rotation_angle) +\"/invert_rotated_pred/\"+ data_name +\"/\"  # invert rotated prediction path\n",
        "    invert_rotation_prediction(saved_pred_path, saved_invert_pred_path, rotation_angle)"
      ],
      "metadata": {
        "id": "KrL0_P8l8ftz"
      },
      "execution_count": 6,
      "outputs": []
    },
    {
      "cell_type": "code",
      "source": [
        "####.......Run this cell after getting all the MIS predictions of input and corresponding variants on existing models.....#####\n",
        "def int_method(mtype, i, data_name):\n",
        "  YA, YB = get_YA_YB(mtype, i, data_name) # YA and YB masks for test data (INT)\n",
        "  count_white_pixels_mask1 = cv2.countNonZero(YA) # count of foreground pixels in YA\n",
        "  count_white_pixels_mask2 = cv2.countNonZero(YB) # count of foreground pixels in YB\n",
        "  total_pixels = YA.shape[0] * YB.shape[1] # total pixels in YA or YB\n",
        "  max_white_pixel = max(count_white_pixels_mask1, count_white_pixels_mask2) # max foreground pixels between YA and YB\n",
        "  if max_white_pixel > 0.2 * total_pixels: # case if ----''---- is 0.2% of total pixels\n",
        "    final_mask = [YA if max_white_pixel == count_white_pixels_mask1 else YB] # F having max foreground pixels (either YA or YB)\n",
        "    F = final_mask[0]\n",
        "    S = F\n",
        "  else:\n",
        "    m = (YA + YB) / 2.0\n",
        "    S = intersection(m)  # intersection between YA and YB (S = YA intersect YB)\n",
        "  return S\n",
        "\n",
        "\n",
        "def it_method(gt_path,rotation_angles,data_name,mtype,threshold):\n",
        "  path_list = os.listdir(gt_path)\n",
        "  path_list.sort()\n",
        "  z = {}\n",
        "  dice_cso = {}\n",
        "  for i in tqdm(path_list):\n",
        "    a = []\n",
        "    for rotation_angle in rotation_angles:\n",
        "      if mtype == 'L':\n",
        "        original_pred_path = \"Output_L/\" + data_name + \"/\"   # prediction without rotation\n",
        "        saved_invert_pred_path = \"Output_L/rotation\" + str(rotation_angle) +\"/invert_rotated_pred/\"+ data_name +\"/\"  # invert rotated prediction path\n",
        "      else:\n",
        "        original_pred_path = \"Output/\" + data_name + \"/\"   # prediction without rotation\n",
        "        saved_invert_pred_path = \"Output/rotation\" + str(rotation_angle) +\"/invert_rotated_pred/\"+ data_name +\"/\"  # invert rotated prediction path\n",
        "      m1 = load(original_pred_path + i) # load actual pred Y\n",
        "      m2 = load(saved_invert_pred_path + i) # load variant pred Y^i\n",
        "      consistency = dice_metric(m1,m2) # check dice between actual and variant prediction (consistancy) (For IT method)\n",
        "      a.append(consistency)\n",
        "    conf = sum(a) / len(a)\n",
        "    if conf >= threshold:\n",
        "      print(\"prediction of sample \"+ str(i)+ \" is Trustworthy (T) with confidence \" + str(conf) + \".\")\n",
        "      S = m1\n",
        "    else:\n",
        "      print(\"prediction of sample \"+ str(i)+ \" is Non-Trustworthy (NT) with confidence \" + str(conf) + \".\")\n",
        "      S = int_method(mtype, i, data_name)\n",
        "    final_trustmis_performance = dice_metric(S, load(gt_path + i))\n",
        "    z.update({i:final_trustmis_performance})\n",
        "    ### FOR CSO ###\n",
        "    YA, YB = get_YA_YB(mtype, i, data_name)\n",
        "    d_cso = dice_metric(YA, YB) # dice used in CSO method\n",
        "  dice_cso.update({i:d_cso})\n",
        "  return z, dice_cso\n"
      ],
      "metadata": {
        "id": "MSIb88MD8fnB"
      },
      "execution_count": 8,
      "outputs": []
    },
    {
      "cell_type": "code",
      "source": [
        "####.......Run this cell after getting all the MIS predictions of input and corresponding variants on existing models.....#####\n",
        "# FUNCTION CALLING\n",
        "for data_name in datasets:\n",
        "  os.chdir(dataset_dir) # set dir to dataset dir\n",
        "  gt_path = \"/content/drive/MyDrive/PraNet/TestDataset/\" + data_name + \"/masks/\" # ground truth mask\n",
        "  os.chdir(model_dir)     # change dir to current model dir\n",
        "  z, dice_cso = it_method(gt_path,rotation_angles,data_name,mtype,threshold)\n",
        "  print(\"The improved INT performance (c^INT) for dataset \"+ str(data_name) + \" is : \" + str(sum(z.values())/len(z)))"
      ],
      "metadata": {
        "id": "-GY_MJ_r8fjw"
      },
      "execution_count": 10,
      "outputs": []
    }
  ],
  "metadata": {
    "accelerator": "GPU",
    "colab": {
      "provenance": [],
      "gpuType": "T4"
    },
    "kernelspec": {
      "display_name": "Python 3",
      "name": "python3"
    },
    "language_info": {
      "name": "python"
    }
  },
  "nbformat": 4,
  "nbformat_minor": 0
}